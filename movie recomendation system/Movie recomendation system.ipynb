{
 "cells": [
  {
   "cell_type": "markdown",
   "id": "d2e70830",
   "metadata": {},
   "source": [
    "Importing the required modules"
   ]
  },
  {
   "cell_type": "code",
   "execution_count": 1,
   "id": "0890e03f",
   "metadata": {},
   "outputs": [],
   "source": [
    "import pandas as pd\n",
    "import numpy as np"
   ]
  },
  {
   "cell_type": "code",
   "execution_count": 2,
   "id": "8dbf60d7",
   "metadata": {},
   "outputs": [],
   "source": [
    "df=pd.read_csv(\"tmdb1.csv\")\n"
   ]
  },
  {
   "cell_type": "markdown",
   "id": "60de84c9",
   "metadata": {},
   "source": [
    "checking dataset"
   ]
  },
  {
   "cell_type": "code",
   "execution_count": 3,
   "id": "c22bc092",
   "metadata": {},
   "outputs": [
    {
     "data": {
      "text/html": [
       "<div>\n",
       "<style scoped>\n",
       "    .dataframe tbody tr th:only-of-type {\n",
       "        vertical-align: middle;\n",
       "    }\n",
       "\n",
       "    .dataframe tbody tr th {\n",
       "        vertical-align: top;\n",
       "    }\n",
       "\n",
       "    .dataframe thead th {\n",
       "        text-align: right;\n",
       "    }\n",
       "</style>\n",
       "<table border=\"1\" class=\"dataframe\">\n",
       "  <thead>\n",
       "    <tr style=\"text-align: right;\">\n",
       "      <th></th>\n",
       "      <th>id</th>\n",
       "      <th>title</th>\n",
       "      <th>release_date</th>\n",
       "      <th>genre</th>\n",
       "      <th>original_language</th>\n",
       "      <th>vote_average</th>\n",
       "      <th>vote_count</th>\n",
       "      <th>popularity</th>\n",
       "      <th>overview</th>\n",
       "      <th>budget</th>\n",
       "      <th>production_companies</th>\n",
       "      <th>revenue</th>\n",
       "      <th>runtime</th>\n",
       "      <th>tagline</th>\n",
       "    </tr>\n",
       "  </thead>\n",
       "  <tbody>\n",
       "    <tr>\n",
       "      <th>0</th>\n",
       "      <td>385687</td>\n",
       "      <td>Fast X</td>\n",
       "      <td>2023-05-17</td>\n",
       "      <td>['Action', 'Crime', 'Thriller']</td>\n",
       "      <td>English</td>\n",
       "      <td>7.4</td>\n",
       "      <td>1347.0</td>\n",
       "      <td>8363.473</td>\n",
       "      <td>Over many missions and against impossible odds...</td>\n",
       "      <td>340000000.0</td>\n",
       "      <td>['Universal Pictures', 'Original Film', 'One R...</td>\n",
       "      <td>6.520000e+08</td>\n",
       "      <td>142.0</td>\n",
       "      <td>The end of the road begins.</td>\n",
       "    </tr>\n",
       "    <tr>\n",
       "      <th>1</th>\n",
       "      <td>603692</td>\n",
       "      <td>John Wick: Chapter 4</td>\n",
       "      <td>2023-03-22</td>\n",
       "      <td>['Action', 'Thriller', 'Crime']</td>\n",
       "      <td>English</td>\n",
       "      <td>7.9</td>\n",
       "      <td>2896.0</td>\n",
       "      <td>4210.313</td>\n",
       "      <td>With the price on his head ever increasing, Jo...</td>\n",
       "      <td>90000000.0</td>\n",
       "      <td>['Thunder Road', '87Eleven', 'Summit Entertain...</td>\n",
       "      <td>4.317692e+08</td>\n",
       "      <td>170.0</td>\n",
       "      <td>No way back, one way out.</td>\n",
       "    </tr>\n",
       "    <tr>\n",
       "      <th>2</th>\n",
       "      <td>502356</td>\n",
       "      <td>The Super Mario Bros. Movie</td>\n",
       "      <td>2023-04-05</td>\n",
       "      <td>['Animation', 'Family', 'Adventure', 'Fantasy'...</td>\n",
       "      <td>English</td>\n",
       "      <td>7.8</td>\n",
       "      <td>4628.0</td>\n",
       "      <td>3394.458</td>\n",
       "      <td>While working underground to fix a water main,...</td>\n",
       "      <td>100000000.0</td>\n",
       "      <td>['Universal Pictures', 'Illumination', 'Ninten...</td>\n",
       "      <td>1.308767e+09</td>\n",
       "      <td>92.0</td>\n",
       "      <td>NaN</td>\n",
       "    </tr>\n",
       "    <tr>\n",
       "      <th>3</th>\n",
       "      <td>569094</td>\n",
       "      <td>Spider-Man: Across the Spider-Verse</td>\n",
       "      <td>2023-05-31</td>\n",
       "      <td>['Action', 'Adventure', 'Animation', 'Science ...</td>\n",
       "      <td>English</td>\n",
       "      <td>8.8</td>\n",
       "      <td>1160.0</td>\n",
       "      <td>2859.047</td>\n",
       "      <td>After reuniting with Gwen Stacy, Brooklyn’s fu...</td>\n",
       "      <td>100000000.0</td>\n",
       "      <td>['Columbia Pictures', 'Sony Pictures Animation...</td>\n",
       "      <td>3.135222e+08</td>\n",
       "      <td>140.0</td>\n",
       "      <td>It's how you wear the mask that matters</td>\n",
       "    </tr>\n",
       "    <tr>\n",
       "      <th>4</th>\n",
       "      <td>536437</td>\n",
       "      <td>Hypnotic</td>\n",
       "      <td>2023-05-11</td>\n",
       "      <td>['Mystery', 'Thriller', 'Science Fiction']</td>\n",
       "      <td>English</td>\n",
       "      <td>6.5</td>\n",
       "      <td>154.0</td>\n",
       "      <td>2654.854</td>\n",
       "      <td>A detective becomes entangled in a mystery inv...</td>\n",
       "      <td>70000000.0</td>\n",
       "      <td>['Studio 8', 'Solstice Productions', 'Ingeniou...</td>\n",
       "      <td>0.000000e+00</td>\n",
       "      <td>94.0</td>\n",
       "      <td>Control is an illusion.</td>\n",
       "    </tr>\n",
       "  </tbody>\n",
       "</table>\n",
       "</div>"
      ],
      "text/plain": [
       "       id                                title release_date  \\\n",
       "0  385687                               Fast X   2023-05-17   \n",
       "1  603692                 John Wick: Chapter 4   2023-03-22   \n",
       "2  502356          The Super Mario Bros. Movie   2023-04-05   \n",
       "3  569094  Spider-Man: Across the Spider-Verse   2023-05-31   \n",
       "4  536437                             Hypnotic   2023-05-11   \n",
       "\n",
       "                                               genre original_language  \\\n",
       "0                    ['Action', 'Crime', 'Thriller']           English   \n",
       "1                    ['Action', 'Thriller', 'Crime']           English   \n",
       "2  ['Animation', 'Family', 'Adventure', 'Fantasy'...           English   \n",
       "3  ['Action', 'Adventure', 'Animation', 'Science ...           English   \n",
       "4         ['Mystery', 'Thriller', 'Science Fiction']           English   \n",
       "\n",
       "   vote_average  vote_count  popularity  \\\n",
       "0           7.4      1347.0    8363.473   \n",
       "1           7.9      2896.0    4210.313   \n",
       "2           7.8      4628.0    3394.458   \n",
       "3           8.8      1160.0    2859.047   \n",
       "4           6.5       154.0    2654.854   \n",
       "\n",
       "                                            overview       budget  \\\n",
       "0  Over many missions and against impossible odds...  340000000.0   \n",
       "1  With the price on his head ever increasing, Jo...   90000000.0   \n",
       "2  While working underground to fix a water main,...  100000000.0   \n",
       "3  After reuniting with Gwen Stacy, Brooklyn’s fu...  100000000.0   \n",
       "4  A detective becomes entangled in a mystery inv...   70000000.0   \n",
       "\n",
       "                                production_companies       revenue  runtime  \\\n",
       "0  ['Universal Pictures', 'Original Film', 'One R...  6.520000e+08    142.0   \n",
       "1  ['Thunder Road', '87Eleven', 'Summit Entertain...  4.317692e+08    170.0   \n",
       "2  ['Universal Pictures', 'Illumination', 'Ninten...  1.308767e+09     92.0   \n",
       "3  ['Columbia Pictures', 'Sony Pictures Animation...  3.135222e+08    140.0   \n",
       "4  ['Studio 8', 'Solstice Productions', 'Ingeniou...  0.000000e+00     94.0   \n",
       "\n",
       "                                   tagline  \n",
       "0              The end of the road begins.  \n",
       "1                No way back, one way out.  \n",
       "2                                      NaN  \n",
       "3  It's how you wear the mask that matters  \n",
       "4                  Control is an illusion.  "
      ]
     },
     "execution_count": 3,
     "metadata": {},
     "output_type": "execute_result"
    }
   ],
   "source": [
    "df.head(5)"
   ]
  },
  {
   "cell_type": "code",
   "execution_count": 4,
   "id": "b382c1ab",
   "metadata": {},
   "outputs": [
    {
     "data": {
      "text/html": [
       "<div>\n",
       "<style scoped>\n",
       "    .dataframe tbody tr th:only-of-type {\n",
       "        vertical-align: middle;\n",
       "    }\n",
       "\n",
       "    .dataframe tbody tr th {\n",
       "        vertical-align: top;\n",
       "    }\n",
       "\n",
       "    .dataframe thead th {\n",
       "        text-align: right;\n",
       "    }\n",
       "</style>\n",
       "<table border=\"1\" class=\"dataframe\">\n",
       "  <thead>\n",
       "    <tr style=\"text-align: right;\">\n",
       "      <th></th>\n",
       "      <th>id</th>\n",
       "      <th>vote_average</th>\n",
       "      <th>vote_count</th>\n",
       "      <th>popularity</th>\n",
       "      <th>budget</th>\n",
       "      <th>revenue</th>\n",
       "      <th>runtime</th>\n",
       "    </tr>\n",
       "  </thead>\n",
       "  <tbody>\n",
       "    <tr>\n",
       "      <th>count</th>\n",
       "      <td>1.000100e+04</td>\n",
       "      <td>10000.000000</td>\n",
       "      <td>10000.000000</td>\n",
       "      <td>10000.000000</td>\n",
       "      <td>9.999000e+03</td>\n",
       "      <td>9.999000e+03</td>\n",
       "      <td>9999.000000</td>\n",
       "    </tr>\n",
       "    <tr>\n",
       "      <th>mean</th>\n",
       "      <td>3.001465e+05</td>\n",
       "      <td>6.319090</td>\n",
       "      <td>1558.294800</td>\n",
       "      <td>33.542340</td>\n",
       "      <td>1.993800e+07</td>\n",
       "      <td>6.084337e+07</td>\n",
       "      <td>100.809581</td>\n",
       "    </tr>\n",
       "    <tr>\n",
       "      <th>std</th>\n",
       "      <td>3.379901e+05</td>\n",
       "      <td>1.460605</td>\n",
       "      <td>2887.861217</td>\n",
       "      <td>126.495621</td>\n",
       "      <td>3.870582e+07</td>\n",
       "      <td>1.553073e+08</td>\n",
       "      <td>27.850165</td>\n",
       "    </tr>\n",
       "    <tr>\n",
       "      <th>min</th>\n",
       "      <td>0.000000e+00</td>\n",
       "      <td>0.000000</td>\n",
       "      <td>0.000000</td>\n",
       "      <td>12.297000</td>\n",
       "      <td>0.000000e+00</td>\n",
       "      <td>0.000000e+00</td>\n",
       "      <td>0.000000</td>\n",
       "    </tr>\n",
       "    <tr>\n",
       "      <th>25%</th>\n",
       "      <td>1.150400e+04</td>\n",
       "      <td>5.900000</td>\n",
       "      <td>143.000000</td>\n",
       "      <td>14.599000</td>\n",
       "      <td>0.000000e+00</td>\n",
       "      <td>0.000000e+00</td>\n",
       "      <td>90.000000</td>\n",
       "    </tr>\n",
       "    <tr>\n",
       "      <th>50%</th>\n",
       "      <td>1.184060e+05</td>\n",
       "      <td>6.600000</td>\n",
       "      <td>519.000000</td>\n",
       "      <td>18.582500</td>\n",
       "      <td>1.250000e+06</td>\n",
       "      <td>2.133452e+06</td>\n",
       "      <td>100.000000</td>\n",
       "    </tr>\n",
       "    <tr>\n",
       "      <th>75%</th>\n",
       "      <td>5.379150e+05</td>\n",
       "      <td>7.100000</td>\n",
       "      <td>1584.000000</td>\n",
       "      <td>28.014500</td>\n",
       "      <td>2.300000e+07</td>\n",
       "      <td>5.106230e+07</td>\n",
       "      <td>115.000000</td>\n",
       "    </tr>\n",
       "    <tr>\n",
       "      <th>max</th>\n",
       "      <td>1.136631e+06</td>\n",
       "      <td>10.000000</td>\n",
       "      <td>33822.000000</td>\n",
       "      <td>8363.473000</td>\n",
       "      <td>4.600000e+08</td>\n",
       "      <td>2.923706e+09</td>\n",
       "      <td>366.000000</td>\n",
       "    </tr>\n",
       "  </tbody>\n",
       "</table>\n",
       "</div>"
      ],
      "text/plain": [
       "                 id  vote_average    vote_count    popularity        budget  \\\n",
       "count  1.000100e+04  10000.000000  10000.000000  10000.000000  9.999000e+03   \n",
       "mean   3.001465e+05      6.319090   1558.294800     33.542340  1.993800e+07   \n",
       "std    3.379901e+05      1.460605   2887.861217    126.495621  3.870582e+07   \n",
       "min    0.000000e+00      0.000000      0.000000     12.297000  0.000000e+00   \n",
       "25%    1.150400e+04      5.900000    143.000000     14.599000  0.000000e+00   \n",
       "50%    1.184060e+05      6.600000    519.000000     18.582500  1.250000e+06   \n",
       "75%    5.379150e+05      7.100000   1584.000000     28.014500  2.300000e+07   \n",
       "max    1.136631e+06     10.000000  33822.000000   8363.473000  4.600000e+08   \n",
       "\n",
       "            revenue      runtime  \n",
       "count  9.999000e+03  9999.000000  \n",
       "mean   6.084337e+07   100.809581  \n",
       "std    1.553073e+08    27.850165  \n",
       "min    0.000000e+00     0.000000  \n",
       "25%    0.000000e+00    90.000000  \n",
       "50%    2.133452e+06   100.000000  \n",
       "75%    5.106230e+07   115.000000  \n",
       "max    2.923706e+09   366.000000  "
      ]
     },
     "execution_count": 4,
     "metadata": {},
     "output_type": "execute_result"
    }
   ],
   "source": [
    "df.describe()"
   ]
  },
  {
   "cell_type": "code",
   "execution_count": 5,
   "id": "6227d3f7",
   "metadata": {},
   "outputs": [
    {
     "data": {
      "text/plain": [
       "id                         0\n",
       "title                      0\n",
       "release_date              23\n",
       "genre                      0\n",
       "original_language          1\n",
       "vote_average               1\n",
       "vote_count                 1\n",
       "popularity                 1\n",
       "overview                  77\n",
       "budget                     2\n",
       "production_companies       2\n",
       "revenue                    2\n",
       "runtime                    2\n",
       "tagline                 2618\n",
       "dtype: int64"
      ]
     },
     "execution_count": 5,
     "metadata": {},
     "output_type": "execute_result"
    }
   ],
   "source": [
    "df.isna().sum()"
   ]
  },
  {
   "cell_type": "code",
   "execution_count": 6,
   "id": "2d9e996e",
   "metadata": {},
   "outputs": [
    {
     "data": {
      "text/plain": [
       "id                        int64\n",
       "title                    object\n",
       "release_date             object\n",
       "genre                    object\n",
       "original_language        object\n",
       "vote_average            float64\n",
       "vote_count              float64\n",
       "popularity              float64\n",
       "overview                 object\n",
       "budget                  float64\n",
       "production_companies     object\n",
       "revenue                 float64\n",
       "runtime                 float64\n",
       "tagline                  object\n",
       "dtype: object"
      ]
     },
     "execution_count": 6,
     "metadata": {},
     "output_type": "execute_result"
    }
   ],
   "source": [
    "df.dtypes"
   ]
  },
  {
   "cell_type": "code",
   "execution_count": 7,
   "id": "32aee86a",
   "metadata": {},
   "outputs": [
    {
     "data": {
      "text/plain": [
       "Index(['id', 'title', 'release_date', 'genre', 'original_language',\n",
       "       'vote_average', 'vote_count', 'popularity', 'overview', 'budget',\n",
       "       'production_companies', 'revenue', 'runtime', 'tagline'],\n",
       "      dtype='object')"
      ]
     },
     "execution_count": 7,
     "metadata": {},
     "output_type": "execute_result"
    }
   ],
   "source": [
    "df.columns"
   ]
  },
  {
   "cell_type": "markdown",
   "id": "313822a8",
   "metadata": {},
   "source": [
    "filtering dataset "
   ]
  },
  {
   "cell_type": "code",
   "execution_count": 8,
   "id": "6354d2fa",
   "metadata": {},
   "outputs": [
    {
     "data": {
      "text/html": [
       "<div>\n",
       "<style scoped>\n",
       "    .dataframe tbody tr th:only-of-type {\n",
       "        vertical-align: middle;\n",
       "    }\n",
       "\n",
       "    .dataframe tbody tr th {\n",
       "        vertical-align: top;\n",
       "    }\n",
       "\n",
       "    .dataframe thead th {\n",
       "        text-align: right;\n",
       "    }\n",
       "</style>\n",
       "<table border=\"1\" class=\"dataframe\">\n",
       "  <thead>\n",
       "    <tr style=\"text-align: right;\">\n",
       "      <th></th>\n",
       "      <th>id</th>\n",
       "      <th>title</th>\n",
       "      <th>genre</th>\n",
       "      <th>overview</th>\n",
       "      <th>vote_count</th>\n",
       "      <th>vote_average</th>\n",
       "    </tr>\n",
       "  </thead>\n",
       "  <tbody>\n",
       "    <tr>\n",
       "      <th>0</th>\n",
       "      <td>385687</td>\n",
       "      <td>Fast X</td>\n",
       "      <td>['Action', 'Crime', 'Thriller']</td>\n",
       "      <td>Over many missions and against impossible odds...</td>\n",
       "      <td>1347.0</td>\n",
       "      <td>7.4</td>\n",
       "    </tr>\n",
       "    <tr>\n",
       "      <th>1</th>\n",
       "      <td>603692</td>\n",
       "      <td>John Wick: Chapter 4</td>\n",
       "      <td>['Action', 'Thriller', 'Crime']</td>\n",
       "      <td>With the price on his head ever increasing, Jo...</td>\n",
       "      <td>2896.0</td>\n",
       "      <td>7.9</td>\n",
       "    </tr>\n",
       "    <tr>\n",
       "      <th>2</th>\n",
       "      <td>502356</td>\n",
       "      <td>The Super Mario Bros. Movie</td>\n",
       "      <td>['Animation', 'Family', 'Adventure', 'Fantasy'...</td>\n",
       "      <td>While working underground to fix a water main,...</td>\n",
       "      <td>4628.0</td>\n",
       "      <td>7.8</td>\n",
       "    </tr>\n",
       "    <tr>\n",
       "      <th>3</th>\n",
       "      <td>569094</td>\n",
       "      <td>Spider-Man: Across the Spider-Verse</td>\n",
       "      <td>['Action', 'Adventure', 'Animation', 'Science ...</td>\n",
       "      <td>After reuniting with Gwen Stacy, Brooklyn’s fu...</td>\n",
       "      <td>1160.0</td>\n",
       "      <td>8.8</td>\n",
       "    </tr>\n",
       "    <tr>\n",
       "      <th>4</th>\n",
       "      <td>536437</td>\n",
       "      <td>Hypnotic</td>\n",
       "      <td>['Mystery', 'Thriller', 'Science Fiction']</td>\n",
       "      <td>A detective becomes entangled in a mystery inv...</td>\n",
       "      <td>154.0</td>\n",
       "      <td>6.5</td>\n",
       "    </tr>\n",
       "  </tbody>\n",
       "</table>\n",
       "</div>"
      ],
      "text/plain": [
       "       id                                title  \\\n",
       "0  385687                               Fast X   \n",
       "1  603692                 John Wick: Chapter 4   \n",
       "2  502356          The Super Mario Bros. Movie   \n",
       "3  569094  Spider-Man: Across the Spider-Verse   \n",
       "4  536437                             Hypnotic   \n",
       "\n",
       "                                               genre  \\\n",
       "0                    ['Action', 'Crime', 'Thriller']   \n",
       "1                    ['Action', 'Thriller', 'Crime']   \n",
       "2  ['Animation', 'Family', 'Adventure', 'Fantasy'...   \n",
       "3  ['Action', 'Adventure', 'Animation', 'Science ...   \n",
       "4         ['Mystery', 'Thriller', 'Science Fiction']   \n",
       "\n",
       "                                            overview  vote_count  vote_average  \n",
       "0  Over many missions and against impossible odds...      1347.0           7.4  \n",
       "1  With the price on his head ever increasing, Jo...      2896.0           7.9  \n",
       "2  While working underground to fix a water main,...      4628.0           7.8  \n",
       "3  After reuniting with Gwen Stacy, Brooklyn’s fu...      1160.0           8.8  \n",
       "4  A detective becomes entangled in a mystery inv...       154.0           6.5  "
      ]
     },
     "execution_count": 8,
     "metadata": {},
     "output_type": "execute_result"
    }
   ],
   "source": [
    "df=df[['id','title','genre','overview','vote_count','vote_average']]\n",
    "df.head(5)"
   ]
  },
  {
   "cell_type": "code",
   "execution_count": 9,
   "id": "c2a21793",
   "metadata": {},
   "outputs": [
    {
     "data": {
      "text/html": [
       "<div>\n",
       "<style scoped>\n",
       "    .dataframe tbody tr th:only-of-type {\n",
       "        vertical-align: middle;\n",
       "    }\n",
       "\n",
       "    .dataframe tbody tr th {\n",
       "        vertical-align: top;\n",
       "    }\n",
       "\n",
       "    .dataframe thead th {\n",
       "        text-align: right;\n",
       "    }\n",
       "</style>\n",
       "<table border=\"1\" class=\"dataframe\">\n",
       "  <thead>\n",
       "    <tr style=\"text-align: right;\">\n",
       "      <th></th>\n",
       "      <th>id</th>\n",
       "      <th>title</th>\n",
       "      <th>genre</th>\n",
       "      <th>overview</th>\n",
       "      <th>vote_count</th>\n",
       "      <th>vote_average</th>\n",
       "      <th>tags</th>\n",
       "    </tr>\n",
       "  </thead>\n",
       "  <tbody>\n",
       "    <tr>\n",
       "      <th>0</th>\n",
       "      <td>385687</td>\n",
       "      <td>Fast X</td>\n",
       "      <td>['Action', 'Crime', 'Thriller']</td>\n",
       "      <td>Over many missions and against impossible odds...</td>\n",
       "      <td>1347.0</td>\n",
       "      <td>7.4</td>\n",
       "      <td>Over many missions and against impossible odds...</td>\n",
       "    </tr>\n",
       "    <tr>\n",
       "      <th>1</th>\n",
       "      <td>603692</td>\n",
       "      <td>John Wick: Chapter 4</td>\n",
       "      <td>['Action', 'Thriller', 'Crime']</td>\n",
       "      <td>With the price on his head ever increasing, Jo...</td>\n",
       "      <td>2896.0</td>\n",
       "      <td>7.9</td>\n",
       "      <td>With the price on his head ever increasing, Jo...</td>\n",
       "    </tr>\n",
       "    <tr>\n",
       "      <th>2</th>\n",
       "      <td>502356</td>\n",
       "      <td>The Super Mario Bros. Movie</td>\n",
       "      <td>['Animation', 'Family', 'Adventure', 'Fantasy'...</td>\n",
       "      <td>While working underground to fix a water main,...</td>\n",
       "      <td>4628.0</td>\n",
       "      <td>7.8</td>\n",
       "      <td>While working underground to fix a water main,...</td>\n",
       "    </tr>\n",
       "    <tr>\n",
       "      <th>3</th>\n",
       "      <td>569094</td>\n",
       "      <td>Spider-Man: Across the Spider-Verse</td>\n",
       "      <td>['Action', 'Adventure', 'Animation', 'Science ...</td>\n",
       "      <td>After reuniting with Gwen Stacy, Brooklyn’s fu...</td>\n",
       "      <td>1160.0</td>\n",
       "      <td>8.8</td>\n",
       "      <td>After reuniting with Gwen Stacy, Brooklyn’s fu...</td>\n",
       "    </tr>\n",
       "    <tr>\n",
       "      <th>4</th>\n",
       "      <td>536437</td>\n",
       "      <td>Hypnotic</td>\n",
       "      <td>['Mystery', 'Thriller', 'Science Fiction']</td>\n",
       "      <td>A detective becomes entangled in a mystery inv...</td>\n",
       "      <td>154.0</td>\n",
       "      <td>6.5</td>\n",
       "      <td>A detective becomes entangled in a mystery inv...</td>\n",
       "    </tr>\n",
       "  </tbody>\n",
       "</table>\n",
       "</div>"
      ],
      "text/plain": [
       "       id                                title  \\\n",
       "0  385687                               Fast X   \n",
       "1  603692                 John Wick: Chapter 4   \n",
       "2  502356          The Super Mario Bros. Movie   \n",
       "3  569094  Spider-Man: Across the Spider-Verse   \n",
       "4  536437                             Hypnotic   \n",
       "\n",
       "                                               genre  \\\n",
       "0                    ['Action', 'Crime', 'Thriller']   \n",
       "1                    ['Action', 'Thriller', 'Crime']   \n",
       "2  ['Animation', 'Family', 'Adventure', 'Fantasy'...   \n",
       "3  ['Action', 'Adventure', 'Animation', 'Science ...   \n",
       "4         ['Mystery', 'Thriller', 'Science Fiction']   \n",
       "\n",
       "                                            overview  vote_count  \\\n",
       "0  Over many missions and against impossible odds...      1347.0   \n",
       "1  With the price on his head ever increasing, Jo...      2896.0   \n",
       "2  While working underground to fix a water main,...      4628.0   \n",
       "3  After reuniting with Gwen Stacy, Brooklyn’s fu...      1160.0   \n",
       "4  A detective becomes entangled in a mystery inv...       154.0   \n",
       "\n",
       "   vote_average                                               tags  \n",
       "0           7.4  Over many missions and against impossible odds...  \n",
       "1           7.9  With the price on his head ever increasing, Jo...  \n",
       "2           7.8  While working underground to fix a water main,...  \n",
       "3           8.8  After reuniting with Gwen Stacy, Brooklyn’s fu...  \n",
       "4           6.5  A detective becomes entangled in a mystery inv...  "
      ]
     },
     "execution_count": 9,
     "metadata": {},
     "output_type": "execute_result"
    }
   ],
   "source": [
    "df['tags']=df['overview']+df['genre']\n",
    "df.head(5)"
   ]
  },
  {
   "cell_type": "markdown",
   "id": "8a98abf1",
   "metadata": {},
   "source": [
    "removing unnecessary columns "
   ]
  },
  {
   "cell_type": "code",
   "execution_count": 10,
   "id": "9c771b1a",
   "metadata": {},
   "outputs": [
    {
     "data": {
      "text/html": [
       "<div>\n",
       "<style scoped>\n",
       "    .dataframe tbody tr th:only-of-type {\n",
       "        vertical-align: middle;\n",
       "    }\n",
       "\n",
       "    .dataframe tbody tr th {\n",
       "        vertical-align: top;\n",
       "    }\n",
       "\n",
       "    .dataframe thead th {\n",
       "        text-align: right;\n",
       "    }\n",
       "</style>\n",
       "<table border=\"1\" class=\"dataframe\">\n",
       "  <thead>\n",
       "    <tr style=\"text-align: right;\">\n",
       "      <th></th>\n",
       "      <th>id</th>\n",
       "      <th>title</th>\n",
       "      <th>tags</th>\n",
       "    </tr>\n",
       "  </thead>\n",
       "  <tbody>\n",
       "    <tr>\n",
       "      <th>0</th>\n",
       "      <td>385687</td>\n",
       "      <td>Fast X</td>\n",
       "      <td>Over many missions and against impossible odds...</td>\n",
       "    </tr>\n",
       "    <tr>\n",
       "      <th>1</th>\n",
       "      <td>603692</td>\n",
       "      <td>John Wick: Chapter 4</td>\n",
       "      <td>With the price on his head ever increasing, Jo...</td>\n",
       "    </tr>\n",
       "    <tr>\n",
       "      <th>2</th>\n",
       "      <td>502356</td>\n",
       "      <td>The Super Mario Bros. Movie</td>\n",
       "      <td>While working underground to fix a water main,...</td>\n",
       "    </tr>\n",
       "    <tr>\n",
       "      <th>3</th>\n",
       "      <td>569094</td>\n",
       "      <td>Spider-Man: Across the Spider-Verse</td>\n",
       "      <td>After reuniting with Gwen Stacy, Brooklyn’s fu...</td>\n",
       "    </tr>\n",
       "    <tr>\n",
       "      <th>4</th>\n",
       "      <td>536437</td>\n",
       "      <td>Hypnotic</td>\n",
       "      <td>A detective becomes entangled in a mystery inv...</td>\n",
       "    </tr>\n",
       "    <tr>\n",
       "      <th>...</th>\n",
       "      <td>...</td>\n",
       "      <td>...</td>\n",
       "      <td>...</td>\n",
       "    </tr>\n",
       "    <tr>\n",
       "      <th>9995</th>\n",
       "      <td>33142</td>\n",
       "      <td>Vivah</td>\n",
       "      <td>Poonam, a traditionally brought-up young woman...</td>\n",
       "    </tr>\n",
       "    <tr>\n",
       "      <th>9996</th>\n",
       "      <td>9442</td>\n",
       "      <td>Dead Men Don't Wear Plaid</td>\n",
       "      <td>Juliet Forrest is convinced that the reported ...</td>\n",
       "    </tr>\n",
       "    <tr>\n",
       "      <th>9997</th>\n",
       "      <td>28774</td>\n",
       "      <td>Communion</td>\n",
       "      <td>A novelist's wife and son see him changed by a...</td>\n",
       "    </tr>\n",
       "    <tr>\n",
       "      <th>9998</th>\n",
       "      <td>11121</td>\n",
       "      <td>Tess</td>\n",
       "      <td>A strong-willed peasant girl is sent by her fa...</td>\n",
       "    </tr>\n",
       "    <tr>\n",
       "      <th>9999</th>\n",
       "      <td>272692</td>\n",
       "      <td>The Possession of Michael King</td>\n",
       "      <td>The film tells the story of documentary filmma...</td>\n",
       "    </tr>\n",
       "  </tbody>\n",
       "</table>\n",
       "<p>10001 rows × 3 columns</p>\n",
       "</div>"
      ],
      "text/plain": [
       "          id                                title  \\\n",
       "0     385687                               Fast X   \n",
       "1     603692                 John Wick: Chapter 4   \n",
       "2     502356          The Super Mario Bros. Movie   \n",
       "3     569094  Spider-Man: Across the Spider-Verse   \n",
       "4     536437                             Hypnotic   \n",
       "...      ...                                  ...   \n",
       "9995   33142                                Vivah   \n",
       "9996    9442            Dead Men Don't Wear Plaid   \n",
       "9997   28774                            Communion   \n",
       "9998   11121                                 Tess   \n",
       "9999  272692       The Possession of Michael King   \n",
       "\n",
       "                                                   tags  \n",
       "0     Over many missions and against impossible odds...  \n",
       "1     With the price on his head ever increasing, Jo...  \n",
       "2     While working underground to fix a water main,...  \n",
       "3     After reuniting with Gwen Stacy, Brooklyn’s fu...  \n",
       "4     A detective becomes entangled in a mystery inv...  \n",
       "...                                                 ...  \n",
       "9995  Poonam, a traditionally brought-up young woman...  \n",
       "9996  Juliet Forrest is convinced that the reported ...  \n",
       "9997  A novelist's wife and son see him changed by a...  \n",
       "9998  A strong-willed peasant girl is sent by her fa...  \n",
       "9999  The film tells the story of documentary filmma...  \n",
       "\n",
       "[10001 rows x 3 columns]"
      ]
     },
     "execution_count": 10,
     "metadata": {},
     "output_type": "execute_result"
    }
   ],
   "source": [
    "df=df.drop(columns=['vote_count','vote_average','genre','overview'])\n",
    "df"
   ]
  },
  {
   "cell_type": "markdown",
   "id": "dbc3dbe8",
   "metadata": {},
   "source": [
    "preparing Machine learning model "
   ]
  },
  {
   "cell_type": "code",
   "execution_count": 11,
   "id": "03f17645",
   "metadata": {},
   "outputs": [],
   "source": [
    "from sklearn.feature_extraction.text import CountVectorizer"
   ]
  },
  {
   "cell_type": "code",
   "execution_count": 12,
   "id": "52a83d53",
   "metadata": {},
   "outputs": [
    {
     "data": {
      "text/plain": [
       "CountVectorizer(max_features=1000, stop_words='english')"
      ]
     },
     "execution_count": 12,
     "metadata": {},
     "output_type": "execute_result"
    }
   ],
   "source": [
    "cv=CountVectorizer(max_features=1000,stop_words='english')\n",
    "cv"
   ]
  },
  {
   "cell_type": "code",
   "execution_count": 13,
   "id": "773b1b50",
   "metadata": {},
   "outputs": [
    {
     "data": {
      "text/plain": [
       "(10001, 1000)"
      ]
     },
     "execution_count": 13,
     "metadata": {},
     "output_type": "execute_result"
    }
   ],
   "source": [
    "vector=cv.fit_transform(df['tags'].values.astype('U')).toarray()\n",
    "vector.shape"
   ]
  },
  {
   "cell_type": "markdown",
   "id": "8ca7724f",
   "metadata": {},
   "source": [
    "making similarity model"
   ]
  },
  {
   "cell_type": "code",
   "execution_count": 14,
   "id": "b8c71569",
   "metadata": {},
   "outputs": [],
   "source": [
    "from sklearn.metrics.pairwise import cosine_similarity"
   ]
  },
  {
   "cell_type": "code",
   "execution_count": 15,
   "id": "0e997076",
   "metadata": {},
   "outputs": [
    {
     "data": {
      "text/plain": [
       "array([[1.        , 0.21821789, 0.10012523, ..., 0.0727393 , 0.        ,\n",
       "        0.        ],\n",
       "       [0.21821789, 1.        , 0.05735393, ..., 0.08333333, 0.        ,\n",
       "        0.        ],\n",
       "       [0.10012523, 0.05735393, 1.        , ..., 0.        , 0.        ,\n",
       "        0.        ],\n",
       "       ...,\n",
       "       [0.0727393 , 0.08333333, 0.        , ..., 1.        , 0.10050378,\n",
       "        0.10050378],\n",
       "       [0.        , 0.        , 0.        , ..., 0.10050378, 1.        ,\n",
       "        0.        ],\n",
       "       [0.        , 0.        , 0.        , ..., 0.10050378, 0.        ,\n",
       "        1.        ]])"
      ]
     },
     "execution_count": 15,
     "metadata": {},
     "output_type": "execute_result"
    }
   ],
   "source": [
    "sim=cosine_similarity(vector)\n",
    "sim"
   ]
  },
  {
   "cell_type": "code",
   "execution_count": 16,
   "id": "a8e17bbb",
   "metadata": {},
   "outputs": [
    {
     "data": {
      "text/plain": [
       "'1'"
      ]
     },
     "execution_count": 16,
     "metadata": {},
     "output_type": "execute_result"
    }
   ],
   "source": [
    "df[df['title']==\"John Wick: Chapter 4\"].index[0]"
   ]
  },
  {
   "cell_type": "markdown",
   "id": "a9b54234",
   "metadata": {},
   "source": [
    "Making the movie recomendation system"
   ]
  },
  {
   "cell_type": "code",
   "execution_count": 17,
   "id": "ecdf9cbb",
   "metadata": {},
   "outputs": [],
   "source": [
    "def recomendMovies(movie):\n",
    "    ind=int(df[df['title']==movie].index[0])\n",
    "    distance=sorted(list(enumerate(sim[ind])),reverse=True,key=lambda vector:vector[0])\n",
    "    for i in distance[0:5]:\n",
    "        print(df.iloc[i[0]].title)\n"
   ]
  },
  {
   "cell_type": "code",
   "execution_count": 18,
   "id": "07cd7777",
   "metadata": {},
   "outputs": [
    {
     "name": "stdout",
     "output_type": "stream",
     "text": [
      "The Possession of Michael King\n",
      "Tess\n",
      "Communion\n",
      "Dead Men Don't Wear Plaid\n",
      "Vivah\n"
     ]
    }
   ],
   "source": [
    "recomendMovies('John Wick: Chapter 4')"
   ]
  },
  {
   "cell_type": "code",
   "execution_count": 19,
   "id": "88d04eb5",
   "metadata": {},
   "outputs": [
    {
     "name": "stdout",
     "output_type": "stream",
     "text": [
      "The Possession of Michael King\n",
      "Tess\n",
      "Communion\n",
      "Dead Men Don't Wear Plaid\n",
      "Vivah\n"
     ]
    }
   ],
   "source": [
    "recomendMovies('Spider-Man: Across the Spider-Verse')"
   ]
  }
 ],
 "metadata": {
  "kernelspec": {
   "display_name": "Python 3 (ipykernel)",
   "language": "python",
   "name": "python3"
  },
  "language_info": {
   "codemirror_mode": {
    "name": "ipython",
    "version": 3
   },
   "file_extension": ".py",
   "mimetype": "text/x-python",
   "name": "python",
   "nbconvert_exporter": "python",
   "pygments_lexer": "ipython3",
   "version": "3.9.7"
  }
 },
 "nbformat": 4,
 "nbformat_minor": 5
}
